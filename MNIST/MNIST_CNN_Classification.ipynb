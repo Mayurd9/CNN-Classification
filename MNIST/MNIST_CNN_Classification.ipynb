{
  "metadata": {
    "colab": {
      "provenance": [],
      "gpuType": "T4",
      "include_colab_link": true
    },
    "kernelspec": {
      "name": "python3",
      "display_name": "Python 3",
      "language": "python"
    },
    "language_info": {
      "name": "python",
      "version": "3.10.13",
      "mimetype": "text/x-python",
      "codemirror_mode": {
        "name": "ipython",
        "version": 3
      },
      "pygments_lexer": "ipython3",
      "nbconvert_exporter": "python",
      "file_extension": ".py"
    },
    "accelerator": "GPU",
    "widgets": {
      "application/vnd.jupyter.widget-state+json": {
        "543997462a474bfd97f312b83deb18f9": {
          "model_module": "@jupyter-widgets/controls",
          "model_name": "HBoxModel",
          "model_module_version": "1.5.0",
          "state": {
            "_dom_classes": [],
            "_model_module": "@jupyter-widgets/controls",
            "_model_module_version": "1.5.0",
            "_model_name": "HBoxModel",
            "_view_count": null,
            "_view_module": "@jupyter-widgets/controls",
            "_view_module_version": "1.5.0",
            "_view_name": "HBoxView",
            "box_style": "",
            "children": [
              "IPY_MODEL_99a79a5f8f8b4b9d99fe83a4b5a7ceab",
              "IPY_MODEL_a771e621d5154202916a8aa22e23db5b",
              "IPY_MODEL_c195ae358c884a7ea764f11026bd754c"
            ],
            "layout": "IPY_MODEL_38751ae162814cf4a69f6577352fcb59"
          }
        },
        "99a79a5f8f8b4b9d99fe83a4b5a7ceab": {
          "model_module": "@jupyter-widgets/controls",
          "model_name": "HTMLModel",
          "model_module_version": "1.5.0",
          "state": {
            "_dom_classes": [],
            "_model_module": "@jupyter-widgets/controls",
            "_model_module_version": "1.5.0",
            "_model_name": "HTMLModel",
            "_view_count": null,
            "_view_module": "@jupyter-widgets/controls",
            "_view_module_version": "1.5.0",
            "_view_name": "HTMLView",
            "description": "",
            "description_tooltip": null,
            "layout": "IPY_MODEL_b032b842da1c48d8b8ba18341406ef78",
            "placeholder": "​",
            "style": "IPY_MODEL_d3cd342769e249aeb9256f54686ffd99",
            "value": "100%"
          }
        },
        "a771e621d5154202916a8aa22e23db5b": {
          "model_module": "@jupyter-widgets/controls",
          "model_name": "FloatProgressModel",
          "model_module_version": "1.5.0",
          "state": {
            "_dom_classes": [],
            "_model_module": "@jupyter-widgets/controls",
            "_model_module_version": "1.5.0",
            "_model_name": "FloatProgressModel",
            "_view_count": null,
            "_view_module": "@jupyter-widgets/controls",
            "_view_module_version": "1.5.0",
            "_view_name": "ProgressView",
            "bar_style": "success",
            "description": "",
            "description_tooltip": null,
            "layout": "IPY_MODEL_5e983073215d46ac8554e63d9fc8ccac",
            "max": 40,
            "min": 0,
            "orientation": "horizontal",
            "style": "IPY_MODEL_9c35f1aafff24f6b86698be803013eb5",
            "value": 40
          }
        },
        "c195ae358c884a7ea764f11026bd754c": {
          "model_module": "@jupyter-widgets/controls",
          "model_name": "HTMLModel",
          "model_module_version": "1.5.0",
          "state": {
            "_dom_classes": [],
            "_model_module": "@jupyter-widgets/controls",
            "_model_module_version": "1.5.0",
            "_model_name": "HTMLModel",
            "_view_count": null,
            "_view_module": "@jupyter-widgets/controls",
            "_view_module_version": "1.5.0",
            "_view_name": "HTMLView",
            "description": "",
            "description_tooltip": null,
            "layout": "IPY_MODEL_644a623869ff430897f9337aa994706f",
            "placeholder": "​",
            "style": "IPY_MODEL_8ee7383d445a41ff86bb0ce4add17e8e",
            "value": " 40/40 [19:27&lt;00:00, 29.23s/it]"
          }
        },
        "38751ae162814cf4a69f6577352fcb59": {
          "model_module": "@jupyter-widgets/base",
          "model_name": "LayoutModel",
          "model_module_version": "1.2.0",
          "state": {
            "_model_module": "@jupyter-widgets/base",
            "_model_module_version": "1.2.0",
            "_model_name": "LayoutModel",
            "_view_count": null,
            "_view_module": "@jupyter-widgets/base",
            "_view_module_version": "1.2.0",
            "_view_name": "LayoutView",
            "align_content": null,
            "align_items": null,
            "align_self": null,
            "border": null,
            "bottom": null,
            "display": null,
            "flex": null,
            "flex_flow": null,
            "grid_area": null,
            "grid_auto_columns": null,
            "grid_auto_flow": null,
            "grid_auto_rows": null,
            "grid_column": null,
            "grid_gap": null,
            "grid_row": null,
            "grid_template_areas": null,
            "grid_template_columns": null,
            "grid_template_rows": null,
            "height": null,
            "justify_content": null,
            "justify_items": null,
            "left": null,
            "margin": null,
            "max_height": null,
            "max_width": null,
            "min_height": null,
            "min_width": null,
            "object_fit": null,
            "object_position": null,
            "order": null,
            "overflow": null,
            "overflow_x": null,
            "overflow_y": null,
            "padding": null,
            "right": null,
            "top": null,
            "visibility": null,
            "width": null
          }
        },
        "b032b842da1c48d8b8ba18341406ef78": {
          "model_module": "@jupyter-widgets/base",
          "model_name": "LayoutModel",
          "model_module_version": "1.2.0",
          "state": {
            "_model_module": "@jupyter-widgets/base",
            "_model_module_version": "1.2.0",
            "_model_name": "LayoutModel",
            "_view_count": null,
            "_view_module": "@jupyter-widgets/base",
            "_view_module_version": "1.2.0",
            "_view_name": "LayoutView",
            "align_content": null,
            "align_items": null,
            "align_self": null,
            "border": null,
            "bottom": null,
            "display": null,
            "flex": null,
            "flex_flow": null,
            "grid_area": null,
            "grid_auto_columns": null,
            "grid_auto_flow": null,
            "grid_auto_rows": null,
            "grid_column": null,
            "grid_gap": null,
            "grid_row": null,
            "grid_template_areas": null,
            "grid_template_columns": null,
            "grid_template_rows": null,
            "height": null,
            "justify_content": null,
            "justify_items": null,
            "left": null,
            "margin": null,
            "max_height": null,
            "max_width": null,
            "min_height": null,
            "min_width": null,
            "object_fit": null,
            "object_position": null,
            "order": null,
            "overflow": null,
            "overflow_x": null,
            "overflow_y": null,
            "padding": null,
            "right": null,
            "top": null,
            "visibility": null,
            "width": null
          }
        },
        "d3cd342769e249aeb9256f54686ffd99": {
          "model_module": "@jupyter-widgets/controls",
          "model_name": "DescriptionStyleModel",
          "model_module_version": "1.5.0",
          "state": {
            "_model_module": "@jupyter-widgets/controls",
            "_model_module_version": "1.5.0",
            "_model_name": "DescriptionStyleModel",
            "_view_count": null,
            "_view_module": "@jupyter-widgets/base",
            "_view_module_version": "1.2.0",
            "_view_name": "StyleView",
            "description_width": ""
          }
        },
        "5e983073215d46ac8554e63d9fc8ccac": {
          "model_module": "@jupyter-widgets/base",
          "model_name": "LayoutModel",
          "model_module_version": "1.2.0",
          "state": {
            "_model_module": "@jupyter-widgets/base",
            "_model_module_version": "1.2.0",
            "_model_name": "LayoutModel",
            "_view_count": null,
            "_view_module": "@jupyter-widgets/base",
            "_view_module_version": "1.2.0",
            "_view_name": "LayoutView",
            "align_content": null,
            "align_items": null,
            "align_self": null,
            "border": null,
            "bottom": null,
            "display": null,
            "flex": null,
            "flex_flow": null,
            "grid_area": null,
            "grid_auto_columns": null,
            "grid_auto_flow": null,
            "grid_auto_rows": null,
            "grid_column": null,
            "grid_gap": null,
            "grid_row": null,
            "grid_template_areas": null,
            "grid_template_columns": null,
            "grid_template_rows": null,
            "height": null,
            "justify_content": null,
            "justify_items": null,
            "left": null,
            "margin": null,
            "max_height": null,
            "max_width": null,
            "min_height": null,
            "min_width": null,
            "object_fit": null,
            "object_position": null,
            "order": null,
            "overflow": null,
            "overflow_x": null,
            "overflow_y": null,
            "padding": null,
            "right": null,
            "top": null,
            "visibility": null,
            "width": null
          }
        },
        "9c35f1aafff24f6b86698be803013eb5": {
          "model_module": "@jupyter-widgets/controls",
          "model_name": "ProgressStyleModel",
          "model_module_version": "1.5.0",
          "state": {
            "_model_module": "@jupyter-widgets/controls",
            "_model_module_version": "1.5.0",
            "_model_name": "ProgressStyleModel",
            "_view_count": null,
            "_view_module": "@jupyter-widgets/base",
            "_view_module_version": "1.2.0",
            "_view_name": "StyleView",
            "bar_color": null,
            "description_width": ""
          }
        },
        "644a623869ff430897f9337aa994706f": {
          "model_module": "@jupyter-widgets/base",
          "model_name": "LayoutModel",
          "model_module_version": "1.2.0",
          "state": {
            "_model_module": "@jupyter-widgets/base",
            "_model_module_version": "1.2.0",
            "_model_name": "LayoutModel",
            "_view_count": null,
            "_view_module": "@jupyter-widgets/base",
            "_view_module_version": "1.2.0",
            "_view_name": "LayoutView",
            "align_content": null,
            "align_items": null,
            "align_self": null,
            "border": null,
            "bottom": null,
            "display": null,
            "flex": null,
            "flex_flow": null,
            "grid_area": null,
            "grid_auto_columns": null,
            "grid_auto_flow": null,
            "grid_auto_rows": null,
            "grid_column": null,
            "grid_gap": null,
            "grid_row": null,
            "grid_template_areas": null,
            "grid_template_columns": null,
            "grid_template_rows": null,
            "height": null,
            "justify_content": null,
            "justify_items": null,
            "left": null,
            "margin": null,
            "max_height": null,
            "max_width": null,
            "min_height": null,
            "min_width": null,
            "object_fit": null,
            "object_position": null,
            "order": null,
            "overflow": null,
            "overflow_x": null,
            "overflow_y": null,
            "padding": null,
            "right": null,
            "top": null,
            "visibility": null,
            "width": null
          }
        },
        "8ee7383d445a41ff86bb0ce4add17e8e": {
          "model_module": "@jupyter-widgets/controls",
          "model_name": "DescriptionStyleModel",
          "model_module_version": "1.5.0",
          "state": {
            "_model_module": "@jupyter-widgets/controls",
            "_model_module_version": "1.5.0",
            "_model_name": "DescriptionStyleModel",
            "_view_count": null,
            "_view_module": "@jupyter-widgets/base",
            "_view_module_version": "1.2.0",
            "_view_name": "StyleView",
            "description_width": ""
          }
        },
        "bf5c01d86f594c3b9ecb4ae6cbc0b64a": {
          "model_module": "@jupyter-widgets/controls",
          "model_name": "HBoxModel",
          "model_module_version": "1.5.0",
          "state": {
            "_dom_classes": [],
            "_model_module": "@jupyter-widgets/controls",
            "_model_module_version": "1.5.0",
            "_model_name": "HBoxModel",
            "_view_count": null,
            "_view_module": "@jupyter-widgets/controls",
            "_view_module_version": "1.5.0",
            "_view_name": "HBoxView",
            "box_style": "",
            "children": [
              "IPY_MODEL_2713c2c8095e425d94f26fae69186c09",
              "IPY_MODEL_dd938ea150b64e838d8daae78f8883a6",
              "IPY_MODEL_a5835e267e99404ab8cb9df710addee7"
            ],
            "layout": "IPY_MODEL_761bfb835c014741bd22257ea28b67bb"
          }
        },
        "2713c2c8095e425d94f26fae69186c09": {
          "model_module": "@jupyter-widgets/controls",
          "model_name": "HTMLModel",
          "model_module_version": "1.5.0",
          "state": {
            "_dom_classes": [],
            "_model_module": "@jupyter-widgets/controls",
            "_model_module_version": "1.5.0",
            "_model_name": "HTMLModel",
            "_view_count": null,
            "_view_module": "@jupyter-widgets/controls",
            "_view_module_version": "1.5.0",
            "_view_name": "HTMLView",
            "description": "",
            "description_tooltip": null,
            "layout": "IPY_MODEL_0a68c6c371eb4b00882d745cd3441f40",
            "placeholder": "​",
            "style": "IPY_MODEL_104cc3ca918d4cb5a4a8603ccb2ebc29",
            "value": "100%"
          }
        },
        "dd938ea150b64e838d8daae78f8883a6": {
          "model_module": "@jupyter-widgets/controls",
          "model_name": "FloatProgressModel",
          "model_module_version": "1.5.0",
          "state": {
            "_dom_classes": [],
            "_model_module": "@jupyter-widgets/controls",
            "_model_module_version": "1.5.0",
            "_model_name": "FloatProgressModel",
            "_view_count": null,
            "_view_module": "@jupyter-widgets/controls",
            "_view_module_version": "1.5.0",
            "_view_name": "ProgressView",
            "bar_style": "success",
            "description": "",
            "description_tooltip": null,
            "layout": "IPY_MODEL_2cbbc701b47f412d934347964d04e33b",
            "max": 1000,
            "min": 0,
            "orientation": "horizontal",
            "style": "IPY_MODEL_4cd18769342a44018e89c64015ad61c6",
            "value": 1000
          }
        },
        "a5835e267e99404ab8cb9df710addee7": {
          "model_module": "@jupyter-widgets/controls",
          "model_name": "HTMLModel",
          "model_module_version": "1.5.0",
          "state": {
            "_dom_classes": [],
            "_model_module": "@jupyter-widgets/controls",
            "_model_module_version": "1.5.0",
            "_model_name": "HTMLModel",
            "_view_count": null,
            "_view_module": "@jupyter-widgets/controls",
            "_view_module_version": "1.5.0",
            "_view_name": "HTMLView",
            "description": "",
            "description_tooltip": null,
            "layout": "IPY_MODEL_ad8ad79593f54487a272b52d7b14fdb2",
            "placeholder": "​",
            "style": "IPY_MODEL_9804424470bf46949bef3098b710bd60",
            "value": " 1000/1000 [00:02&lt;00:00, 441.26it/s]"
          }
        },
        "761bfb835c014741bd22257ea28b67bb": {
          "model_module": "@jupyter-widgets/base",
          "model_name": "LayoutModel",
          "model_module_version": "1.2.0",
          "state": {
            "_model_module": "@jupyter-widgets/base",
            "_model_module_version": "1.2.0",
            "_model_name": "LayoutModel",
            "_view_count": null,
            "_view_module": "@jupyter-widgets/base",
            "_view_module_version": "1.2.0",
            "_view_name": "LayoutView",
            "align_content": null,
            "align_items": null,
            "align_self": null,
            "border": null,
            "bottom": null,
            "display": null,
            "flex": null,
            "flex_flow": null,
            "grid_area": null,
            "grid_auto_columns": null,
            "grid_auto_flow": null,
            "grid_auto_rows": null,
            "grid_column": null,
            "grid_gap": null,
            "grid_row": null,
            "grid_template_areas": null,
            "grid_template_columns": null,
            "grid_template_rows": null,
            "height": null,
            "justify_content": null,
            "justify_items": null,
            "left": null,
            "margin": null,
            "max_height": null,
            "max_width": null,
            "min_height": null,
            "min_width": null,
            "object_fit": null,
            "object_position": null,
            "order": null,
            "overflow": null,
            "overflow_x": null,
            "overflow_y": null,
            "padding": null,
            "right": null,
            "top": null,
            "visibility": null,
            "width": null
          }
        },
        "0a68c6c371eb4b00882d745cd3441f40": {
          "model_module": "@jupyter-widgets/base",
          "model_name": "LayoutModel",
          "model_module_version": "1.2.0",
          "state": {
            "_model_module": "@jupyter-widgets/base",
            "_model_module_version": "1.2.0",
            "_model_name": "LayoutModel",
            "_view_count": null,
            "_view_module": "@jupyter-widgets/base",
            "_view_module_version": "1.2.0",
            "_view_name": "LayoutView",
            "align_content": null,
            "align_items": null,
            "align_self": null,
            "border": null,
            "bottom": null,
            "display": null,
            "flex": null,
            "flex_flow": null,
            "grid_area": null,
            "grid_auto_columns": null,
            "grid_auto_flow": null,
            "grid_auto_rows": null,
            "grid_column": null,
            "grid_gap": null,
            "grid_row": null,
            "grid_template_areas": null,
            "grid_template_columns": null,
            "grid_template_rows": null,
            "height": null,
            "justify_content": null,
            "justify_items": null,
            "left": null,
            "margin": null,
            "max_height": null,
            "max_width": null,
            "min_height": null,
            "min_width": null,
            "object_fit": null,
            "object_position": null,
            "order": null,
            "overflow": null,
            "overflow_x": null,
            "overflow_y": null,
            "padding": null,
            "right": null,
            "top": null,
            "visibility": null,
            "width": null
          }
        },
        "104cc3ca918d4cb5a4a8603ccb2ebc29": {
          "model_module": "@jupyter-widgets/controls",
          "model_name": "DescriptionStyleModel",
          "model_module_version": "1.5.0",
          "state": {
            "_model_module": "@jupyter-widgets/controls",
            "_model_module_version": "1.5.0",
            "_model_name": "DescriptionStyleModel",
            "_view_count": null,
            "_view_module": "@jupyter-widgets/base",
            "_view_module_version": "1.2.0",
            "_view_name": "StyleView",
            "description_width": ""
          }
        },
        "2cbbc701b47f412d934347964d04e33b": {
          "model_module": "@jupyter-widgets/base",
          "model_name": "LayoutModel",
          "model_module_version": "1.2.0",
          "state": {
            "_model_module": "@jupyter-widgets/base",
            "_model_module_version": "1.2.0",
            "_model_name": "LayoutModel",
            "_view_count": null,
            "_view_module": "@jupyter-widgets/base",
            "_view_module_version": "1.2.0",
            "_view_name": "LayoutView",
            "align_content": null,
            "align_items": null,
            "align_self": null,
            "border": null,
            "bottom": null,
            "display": null,
            "flex": null,
            "flex_flow": null,
            "grid_area": null,
            "grid_auto_columns": null,
            "grid_auto_flow": null,
            "grid_auto_rows": null,
            "grid_column": null,
            "grid_gap": null,
            "grid_row": null,
            "grid_template_areas": null,
            "grid_template_columns": null,
            "grid_template_rows": null,
            "height": null,
            "justify_content": null,
            "justify_items": null,
            "left": null,
            "margin": null,
            "max_height": null,
            "max_width": null,
            "min_height": null,
            "min_width": null,
            "object_fit": null,
            "object_position": null,
            "order": null,
            "overflow": null,
            "overflow_x": null,
            "overflow_y": null,
            "padding": null,
            "right": null,
            "top": null,
            "visibility": null,
            "width": null
          }
        },
        "4cd18769342a44018e89c64015ad61c6": {
          "model_module": "@jupyter-widgets/controls",
          "model_name": "ProgressStyleModel",
          "model_module_version": "1.5.0",
          "state": {
            "_model_module": "@jupyter-widgets/controls",
            "_model_module_version": "1.5.0",
            "_model_name": "ProgressStyleModel",
            "_view_count": null,
            "_view_module": "@jupyter-widgets/base",
            "_view_module_version": "1.2.0",
            "_view_name": "StyleView",
            "bar_color": null,
            "description_width": ""
          }
        },
        "ad8ad79593f54487a272b52d7b14fdb2": {
          "model_module": "@jupyter-widgets/base",
          "model_name": "LayoutModel",
          "model_module_version": "1.2.0",
          "state": {
            "_model_module": "@jupyter-widgets/base",
            "_model_module_version": "1.2.0",
            "_model_name": "LayoutModel",
            "_view_count": null,
            "_view_module": "@jupyter-widgets/base",
            "_view_module_version": "1.2.0",
            "_view_name": "LayoutView",
            "align_content": null,
            "align_items": null,
            "align_self": null,
            "border": null,
            "bottom": null,
            "display": null,
            "flex": null,
            "flex_flow": null,
            "grid_area": null,
            "grid_auto_columns": null,
            "grid_auto_flow": null,
            "grid_auto_rows": null,
            "grid_column": null,
            "grid_gap": null,
            "grid_row": null,
            "grid_template_areas": null,
            "grid_template_columns": null,
            "grid_template_rows": null,
            "height": null,
            "justify_content": null,
            "justify_items": null,
            "left": null,
            "margin": null,
            "max_height": null,
            "max_width": null,
            "min_height": null,
            "min_width": null,
            "object_fit": null,
            "object_position": null,
            "order": null,
            "overflow": null,
            "overflow_x": null,
            "overflow_y": null,
            "padding": null,
            "right": null,
            "top": null,
            "visibility": null,
            "width": null
          }
        },
        "9804424470bf46949bef3098b710bd60": {
          "model_module": "@jupyter-widgets/controls",
          "model_name": "DescriptionStyleModel",
          "model_module_version": "1.5.0",
          "state": {
            "_model_module": "@jupyter-widgets/controls",
            "_model_module_version": "1.5.0",
            "_model_name": "DescriptionStyleModel",
            "_view_count": null,
            "_view_module": "@jupyter-widgets/base",
            "_view_module_version": "1.2.0",
            "_view_name": "StyleView",
            "description_width": ""
          }
        }
      }
    },
    "kaggle": {
      "accelerator": "nvidiaTeslaT4",
      "dataSources": [],
      "dockerImageVersionId": 30733,
      "isInternetEnabled": true,
      "language": "python",
      "sourceType": "notebook",
      "isGpuEnabled": true
    }
  },
  "nbformat_minor": 0,
  "nbformat": 4,
  "cells": [
    {
      "cell_type": "markdown",
      "metadata": {
        "id": "view-in-github",
        "colab_type": "text"
      },
      "source": [
        "<a href=\"https://colab.research.google.com/github/Mayurd9/CNN-Classification/blob/main/MNIST/MNIST_CNN_Classification.ipynb\" target=\"_parent\"><img src=\"https://colab.research.google.com/assets/colab-badge.svg\" alt=\"Open In Colab\"/></a>"
      ]
    },
    {
      "cell_type": "code",
      "source": [
        "import torch\n",
        "from torch import nn\n",
        "import torchvision\n",
        "from torchvision import datasets\n",
        "from torchvision import transforms\n",
        "from torchvision.transforms import ToTensor\n",
        "import matplotlib.pyplot as plt\n",
        "import numpy as np\n",
        "from torch.utils.data import DataLoader\n",
        "from tqdm.auto import tqdm"
      ],
      "metadata": {
        "id": "oyGecPoCIvZ3",
        "execution": {
          "iopub.status.busy": "2024-06-15T20:35:26.262814Z",
          "iopub.execute_input": "2024-06-15T20:35:26.263506Z",
          "iopub.status.idle": "2024-06-15T20:35:26.523110Z",
          "shell.execute_reply.started": "2024-06-15T20:35:26.263472Z",
          "shell.execute_reply": "2024-06-15T20:35:26.521919Z"
        },
        "trusted": true
      },
      "execution_count": null,
      "outputs": []
    },
    {
      "cell_type": "markdown",
      "source": [
        "# $\\textbf{Loading the Data}$"
      ],
      "metadata": {
        "id": "sVGVAYaY_Y67"
      }
    },
    {
      "cell_type": "code",
      "source": [
        "train_data=datasets.MNIST(root='data',train=True,download=True,transform=ToTensor(),target_transform=None)\n",
        "test_data=datasets.MNIST(root='data',train=False,download=True,transform=ToTensor(),target_transform=None)"
      ],
      "metadata": {
        "colab": {
          "base_uri": "https://localhost:8080/"
        },
        "id": "D87RXB_6JSd4",
        "outputId": "bb880921-5da9-41c7-d9da-b5bf0217156f",
        "execution": {
          "iopub.status.busy": "2024-06-15T20:35:05.664867Z",
          "iopub.status.idle": "2024-06-15T20:35:05.665196Z",
          "shell.execute_reply.started": "2024-06-15T20:35:05.665026Z",
          "shell.execute_reply": "2024-06-15T20:35:05.665039Z"
        },
        "trusted": true
      },
      "execution_count": 2,
      "outputs": [
        {
          "output_type": "stream",
          "name": "stdout",
          "text": [
            "Downloading http://yann.lecun.com/exdb/mnist/train-images-idx3-ubyte.gz\n",
            "Failed to download (trying next):\n",
            "HTTP Error 403: Forbidden\n",
            "\n",
            "Downloading https://ossci-datasets.s3.amazonaws.com/mnist/train-images-idx3-ubyte.gz\n",
            "Downloading https://ossci-datasets.s3.amazonaws.com/mnist/train-images-idx3-ubyte.gz to data/MNIST/raw/train-images-idx3-ubyte.gz\n"
          ]
        },
        {
          "output_type": "stream",
          "name": "stderr",
          "text": [
            "100%|██████████| 9912422/9912422 [00:02<00:00, 4554128.71it/s]\n"
          ]
        },
        {
          "output_type": "stream",
          "name": "stdout",
          "text": [
            "Extracting data/MNIST/raw/train-images-idx3-ubyte.gz to data/MNIST/raw\n",
            "\n",
            "Downloading http://yann.lecun.com/exdb/mnist/train-labels-idx1-ubyte.gz\n",
            "Failed to download (trying next):\n",
            "HTTP Error 403: Forbidden\n",
            "\n",
            "Downloading https://ossci-datasets.s3.amazonaws.com/mnist/train-labels-idx1-ubyte.gz\n",
            "Downloading https://ossci-datasets.s3.amazonaws.com/mnist/train-labels-idx1-ubyte.gz to data/MNIST/raw/train-labels-idx1-ubyte.gz\n"
          ]
        },
        {
          "output_type": "stream",
          "name": "stderr",
          "text": [
            "100%|██████████| 28881/28881 [00:00<00:00, 132571.73it/s]\n"
          ]
        },
        {
          "output_type": "stream",
          "name": "stdout",
          "text": [
            "Extracting data/MNIST/raw/train-labels-idx1-ubyte.gz to data/MNIST/raw\n",
            "\n",
            "Downloading http://yann.lecun.com/exdb/mnist/t10k-images-idx3-ubyte.gz\n",
            "Failed to download (trying next):\n",
            "HTTP Error 403: Forbidden\n",
            "\n",
            "Downloading https://ossci-datasets.s3.amazonaws.com/mnist/t10k-images-idx3-ubyte.gz\n",
            "Downloading https://ossci-datasets.s3.amazonaws.com/mnist/t10k-images-idx3-ubyte.gz to data/MNIST/raw/t10k-images-idx3-ubyte.gz\n"
          ]
        },
        {
          "output_type": "stream",
          "name": "stderr",
          "text": [
            "100%|██████████| 1648877/1648877 [00:01<00:00, 1079228.98it/s]\n"
          ]
        },
        {
          "output_type": "stream",
          "name": "stdout",
          "text": [
            "Extracting data/MNIST/raw/t10k-images-idx3-ubyte.gz to data/MNIST/raw\n",
            "\n",
            "Downloading http://yann.lecun.com/exdb/mnist/t10k-labels-idx1-ubyte.gz\n",
            "Failed to download (trying next):\n",
            "HTTP Error 403: Forbidden\n",
            "\n",
            "Downloading https://ossci-datasets.s3.amazonaws.com/mnist/t10k-labels-idx1-ubyte.gz\n",
            "Downloading https://ossci-datasets.s3.amazonaws.com/mnist/t10k-labels-idx1-ubyte.gz to data/MNIST/raw/t10k-labels-idx1-ubyte.gz\n"
          ]
        },
        {
          "output_type": "stream",
          "name": "stderr",
          "text": [
            "100%|██████████| 4542/4542 [00:00<00:00, 3417135.21it/s]"
          ]
        },
        {
          "output_type": "stream",
          "name": "stdout",
          "text": [
            "Extracting data/MNIST/raw/t10k-labels-idx1-ubyte.gz to data/MNIST/raw\n",
            "\n"
          ]
        },
        {
          "output_type": "stream",
          "name": "stderr",
          "text": [
            "\n"
          ]
        }
      ]
    },
    {
      "cell_type": "code",
      "source": [
        "print(len(train_data), len(test_data))\n",
        "print(type(train_data[0]))\n",
        "print(train_data[0][0].shape)"
      ],
      "metadata": {
        "colab": {
          "base_uri": "https://localhost:8080/"
        },
        "id": "VmM2ems6KgGq",
        "outputId": "2a700fd4-c830-4d07-f06d-488ecd0c3665",
        "execution": {
          "iopub.status.busy": "2024-06-15T20:35:05.666426Z",
          "iopub.status.idle": "2024-06-15T20:35:05.666873Z",
          "shell.execute_reply.started": "2024-06-15T20:35:05.666651Z",
          "shell.execute_reply": "2024-06-15T20:35:05.666671Z"
        },
        "trusted": true
      },
      "execution_count": 3,
      "outputs": [
        {
          "output_type": "stream",
          "name": "stdout",
          "text": [
            "60000 10000\n",
            "<class 'tuple'>\n",
            "torch.Size([1, 28, 28])\n"
          ]
        }
      ]
    },
    {
      "cell_type": "code",
      "source": [
        "train_data.classes"
      ],
      "metadata": {
        "colab": {
          "base_uri": "https://localhost:8080/"
        },
        "id": "gk5cDYDcLLoK",
        "outputId": "2a879c09-225e-4a8b-8404-103d41381ed3",
        "execution": {
          "iopub.status.busy": "2024-06-15T20:35:05.668493Z",
          "iopub.status.idle": "2024-06-15T20:35:05.668933Z",
          "shell.execute_reply.started": "2024-06-15T20:35:05.668701Z",
          "shell.execute_reply": "2024-06-15T20:35:05.668719Z"
        },
        "trusted": true
      },
      "execution_count": 4,
      "outputs": [
        {
          "output_type": "execute_result",
          "data": {
            "text/plain": [
              "['0 - zero',\n",
              " '1 - one',\n",
              " '2 - two',\n",
              " '3 - three',\n",
              " '4 - four',\n",
              " '5 - five',\n",
              " '6 - six',\n",
              " '7 - seven',\n",
              " '8 - eight',\n",
              " '9 - nine']"
            ]
          },
          "metadata": {},
          "execution_count": 4
        }
      ]
    },
    {
      "cell_type": "code",
      "source": [
        "np.unique(train_data.targets)"
      ],
      "metadata": {
        "colab": {
          "base_uri": "https://localhost:8080/"
        },
        "id": "3JTRMfncLP9J",
        "outputId": "3e4e8484-25a6-452a-bd5a-f8c286d1fa56",
        "execution": {
          "iopub.status.busy": "2024-06-15T20:35:05.670130Z",
          "iopub.status.idle": "2024-06-15T20:35:05.670605Z",
          "shell.execute_reply.started": "2024-06-15T20:35:05.670360Z",
          "shell.execute_reply": "2024-06-15T20:35:05.670377Z"
        },
        "trusted": true
      },
      "execution_count": 5,
      "outputs": [
        {
          "output_type": "execute_result",
          "data": {
            "text/plain": [
              "array([0, 1, 2, 3, 4, 5, 6, 7, 8, 9])"
            ]
          },
          "metadata": {},
          "execution_count": 5
        }
      ]
    },
    {
      "cell_type": "code",
      "source": [
        "plt.imshow(train_data[0][0].squeeze(),cmap='gray')"
      ],
      "metadata": {
        "colab": {
          "base_uri": "https://localhost:8080/",
          "height": 447
        },
        "id": "O5mVhtVyKNHz",
        "outputId": "a2617cb2-fb8e-467b-bf29-ed0a29cc7bc3",
        "execution": {
          "iopub.status.busy": "2024-06-15T20:35:05.672534Z",
          "iopub.status.idle": "2024-06-15T20:35:05.672966Z",
          "shell.execute_reply.started": "2024-06-15T20:35:05.672741Z",
          "shell.execute_reply": "2024-06-15T20:35:05.672759Z"
        },
        "trusted": true
      },
      "execution_count": 6,
      "outputs": [
        {
          "output_type": "execute_result",
          "data": {
            "text/plain": [
              "<matplotlib.image.AxesImage at 0x7afa1d727340>"
            ]
          },
          "metadata": {},
          "execution_count": 6
        },
        {
          "output_type": "display_data",
          "data": {
            "text/plain": [
              "<Figure size 640x480 with 1 Axes>"
            ],
            "image/png": "[encoded data removed]"
          },
          "metadata": {}
        }
      ]
    },
    {
      "cell_type": "markdown",
      "source": [
        "# $\\textbf{Dataloader}$"
      ],
      "metadata": {
        "id": "Y5lA7kbB_sVf"
      }
    },
    {
      "cell_type": "code",
      "source": [
        "train_dataloader=DataLoader(train_data,batch_size=10, shuffle=True)\n",
        "test_dataloader=DataLoader(test_data,batch_size=10,shuffle=True)"
      ],
      "metadata": {
        "id": "qu1WLI-QKRYk",
        "execution": {
          "iopub.status.busy": "2024-06-15T20:35:05.673985Z",
          "iopub.status.idle": "2024-06-15T20:35:05.674336Z",
          "shell.execute_reply.started": "2024-06-15T20:35:05.674166Z",
          "shell.execute_reply": "2024-06-15T20:35:05.674185Z"
        },
        "trusted": true
      },
      "execution_count": 7,
      "outputs": []
    },
    {
      "cell_type": "code",
      "source": [
        "len(train_dataloader),len(test_dataloader)"
      ],
      "metadata": {
        "colab": {
          "base_uri": "https://localhost:8080/"
        },
        "id": "3k8FoKfnLg-s",
        "outputId": "3b0fed30-cc67-48b8-be5b-d3237a3f3d3d",
        "execution": {
          "iopub.status.busy": "2024-06-15T20:35:05.676267Z",
          "iopub.status.idle": "2024-06-15T20:35:05.676707Z",
          "shell.execute_reply.started": "2024-06-15T20:35:05.676482Z",
          "shell.execute_reply": "2024-06-15T20:35:05.676500Z"
        },
        "trusted": true
      },
      "execution_count": 8,
      "outputs": [
        {
          "output_type": "execute_result",
          "data": {
            "text/plain": [
              "(6000, 1000)"
            ]
          },
          "metadata": {},
          "execution_count": 8
        }
      ]
    },
    {
      "cell_type": "code",
      "source": [
        "type(next(iter(train_dataloader)))"
      ],
      "metadata": {
        "colab": {
          "base_uri": "https://localhost:8080/"
        },
        "id": "xsip82xfLkg6",
        "outputId": "7248f813-eb02-466f-8707-2d26a52655ec",
        "execution": {
          "iopub.status.busy": "2024-06-15T20:35:05.677679Z",
          "iopub.status.idle": "2024-06-15T20:35:05.678098Z",
          "shell.execute_reply.started": "2024-06-15T20:35:05.677880Z",
          "shell.execute_reply": "2024-06-15T20:35:05.677897Z"
        },
        "trusted": true
      },
      "execution_count": 9,
      "outputs": [
        {
          "output_type": "execute_result",
          "data": {
            "text/plain": [
              "list"
            ]
          },
          "metadata": {},
          "execution_count": 9
        }
      ]
    },
    {
      "cell_type": "code",
      "source": [
        "next(iter(train_dataloader))[0].shape"
      ],
      "metadata": {
        "colab": {
          "base_uri": "https://localhost:8080/"
        },
        "id": "iNz3B_E3Lm4_",
        "outputId": "4b94d22c-0115-46e2-db0d-41bb7020e8d1",
        "execution": {
          "iopub.status.busy": "2024-06-15T20:35:05.679544Z",
          "iopub.status.idle": "2024-06-15T20:35:05.679975Z",
          "shell.execute_reply.started": "2024-06-15T20:35:05.679748Z",
          "shell.execute_reply": "2024-06-15T20:35:05.679766Z"
        },
        "trusted": true
      },
      "execution_count": 10,
      "outputs": [
        {
          "output_type": "execute_result",
          "data": {
            "text/plain": [
              "torch.Size([10, 1, 28, 28])"
            ]
          },
          "metadata": {},
          "execution_count": 10
        }
      ]
    },
    {
      "cell_type": "code",
      "source": [
        "device='cuda' if torch.cuda.is_available() else 'cpu'\n",
        "device"
      ],
      "metadata": {
        "colab": {
          "base_uri": "https://localhost:8080/",
          "height": 36
        },
        "id": "fiQ-D5ljQ1Q8",
        "outputId": "246b1de4-2bd0-4490-eff0-838ab5eff9c8",
        "execution": {
          "iopub.status.busy": "2024-06-15T20:35:05.681171Z",
          "iopub.status.idle": "2024-06-15T20:35:05.681608Z",
          "shell.execute_reply.started": "2024-06-15T20:35:05.681373Z",
          "shell.execute_reply": "2024-06-15T20:35:05.681390Z"
        },
        "trusted": true
      },
      "execution_count": 11,
      "outputs": [
        {
          "output_type": "execute_result",
          "data": {
            "text/plain": [
              "'cuda'"
            ],
            "application/vnd.google.colaboratory.intrinsic+json": {
              "type": "string"
            }
          },
          "metadata": {},
          "execution_count": 11
        }
      ]
    },
    {
      "cell_type": "markdown",
      "source": [
        "# $\\textbf{Making model}$"
      ],
      "metadata": {
        "id": "VdKMR1LS_0vx"
      }
    },
    {
      "cell_type": "code",
      "source": [
        "class MNISTmodel(nn.Module):\n",
        "  def __init__(self):\n",
        "    super().__init__()\n",
        "    self.conv_block1=nn.Sequential(nn.Conv2d(in_channels=1,out_channels=20,kernel_size=5, stride=1,padding=0),\n",
        "                                   nn.ReLU(),\n",
        "                                   nn.MaxPool2d(kernel_size=2))\n",
        "    self.conv_block2=nn.Sequential(nn.Conv2d(in_channels=20,out_channels=40,kernel_size=5,stride=1,padding=0),\n",
        "                                   nn.ReLU(),\n",
        "                                   nn.MaxPool2d(kernel_size=2))\n",
        "    self.fullyconnected=nn.Sequential(nn.Flatten(),\n",
        "                                      nn.Linear(in_features=40*4*4,out_features=1000),\n",
        "                                      nn.Dropout(p=0.5),\n",
        "                                      nn.ReLU(),\n",
        "                                      nn.Linear(in_features=1000,out_features=1000),\n",
        "                                      nn.Dropout(p=0.5),\n",
        "                                      nn.ReLU(),\n",
        "                                      nn.Linear(in_features=1000,out_features=10),\n",
        "                                      nn.Dropout(p=0.5),\n",
        "                                      nn.ReLU())\n",
        "  def forward(self,x):\n",
        "    z=self.conv_block1(x)\n",
        "    z=self.conv_block2(z)\n",
        "    z=self.fullyconnected(z)\n",
        "    return z"
      ],
      "metadata": {
        "id": "Ly0ut4otL3xT",
        "execution": {
          "iopub.status.busy": "2024-06-15T20:35:05.683341Z",
          "iopub.status.idle": "2024-06-15T20:35:05.683781Z",
          "shell.execute_reply.started": "2024-06-15T20:35:05.683557Z",
          "shell.execute_reply": "2024-06-15T20:35:05.683575Z"
        },
        "trusted": true
      },
      "execution_count": 27,
      "outputs": []
    },
    {
      "cell_type": "code",
      "source": [
        "torch.manual_seed(42)\n",
        "torch.cuda.manual_seed(42)\n",
        "model_0=MNISTmodel().to(device)\n",
        "model_0"
      ],
      "metadata": {
        "colab": {
          "base_uri": "https://localhost:8080/"
        },
        "id": "kbMYnn-7Qtaf",
        "outputId": "ab15f989-0e95-4182-d396-4a176f622002",
        "execution": {
          "iopub.status.busy": "2024-06-15T20:35:05.685082Z",
          "iopub.status.idle": "2024-06-15T20:35:05.685549Z",
          "shell.execute_reply.started": "2024-06-15T20:35:05.685313Z",
          "shell.execute_reply": "2024-06-15T20:35:05.685330Z"
        },
        "trusted": true
      },
      "execution_count": 28,
      "outputs": [
        {
          "output_type": "execute_result",
          "data": {
            "text/plain": [
              "MNISTmodel(\n",
              "  (conv_block1): Sequential(\n",
              "    (0): Conv2d(1, 20, kernel_size=(5, 5), stride=(1, 1))\n",
              "    (1): ReLU()\n",
              "    (2): MaxPool2d(kernel_size=2, stride=2, padding=0, dilation=1, ceil_mode=False)\n",
              "  )\n",
              "  (conv_block2): Sequential(\n",
              "    (0): Conv2d(20, 40, kernel_size=(5, 5), stride=(1, 1))\n",
              "    (1): ReLU()\n",
              "    (2): MaxPool2d(kernel_size=2, stride=2, padding=0, dilation=1, ceil_mode=False)\n",
              "  )\n",
              "  (fullyconnected): Sequential(\n",
              "    (0): Flatten(start_dim=1, end_dim=-1)\n",
              "    (1): Linear(in_features=640, out_features=1000, bias=True)\n",
              "    (2): Dropout(p=0.5, inplace=False)\n",
              "    (3): ReLU()\n",
              "    (4): Linear(in_features=1000, out_features=1000, bias=True)\n",
              "    (5): Dropout(p=0.5, inplace=False)\n",
              "    (6): ReLU()\n",
              "    (7): Linear(in_features=1000, out_features=10, bias=True)\n",
              "    (8): Dropout(p=0.5, inplace=False)\n",
              "    (9): ReLU()\n",
              "  )\n",
              ")"
            ]
          },
          "metadata": {},
          "execution_count": 28
        }
      ]
    },
    {
      "cell_type": "code",
      "source": [
        "loss_fn=nn.CrossEntropyLoss()\n",
        "optimizer=torch.optim.SGD(params=model_0.parameters(),lr=0.03)"
      ],
      "metadata": {
        "id": "y-I5ye2ZRCJ5",
        "execution": {
          "iopub.status.busy": "2024-06-15T20:35:05.687035Z",
          "iopub.status.idle": "2024-06-15T20:35:05.687493Z",
          "shell.execute_reply.started": "2024-06-15T20:35:05.687259Z",
          "shell.execute_reply": "2024-06-15T20:35:05.687277Z"
        },
        "trusted": true
      },
      "execution_count": 29,
      "outputs": []
    },
    {
      "cell_type": "code",
      "source": [
        "def accuracy_fn(y_true,y_pred):\n",
        "  return (torch.sum(y_true==y_pred)/len(y_true)).item()*100"
      ],
      "metadata": {
        "id": "eUWZ1KZZSlUs",
        "execution": {
          "iopub.status.busy": "2024-06-15T20:35:05.689224Z",
          "iopub.status.idle": "2024-06-15T20:35:05.689530Z",
          "shell.execute_reply.started": "2024-06-15T20:35:05.689377Z",
          "shell.execute_reply": "2024-06-15T20:35:05.689389Z"
        },
        "trusted": true
      },
      "execution_count": 30,
      "outputs": []
    },
    {
      "cell_type": "markdown",
      "source": [
        "# $\\textbf{Training}$"
      ],
      "metadata": {
        "id": "bZsgE2yu__Rk"
      }
    },
    {
      "cell_type": "code",
      "source": [
        "torch.manual_seed(42)\n",
        "torch.cuda.manual_seed(42)\n",
        "\n",
        "epochs=40\n",
        "\n",
        "for epoch in tqdm(range(epochs)):\n",
        "\n",
        "  train_loss,train_acc=0,0\n",
        "  for batch, (X,y) in enumerate(train_dataloader):\n",
        "    model_0.train()\n",
        "    X,y=X.to(device),y.to(device)\n",
        "    y_logits=model_0(X)\n",
        "    loss=loss_fn(y_logits,y)\n",
        "    optimizer.zero_grad()\n",
        "    loss.backward()\n",
        "    optimizer.step()\n",
        "    train_loss+=loss\n",
        "\n",
        "    model_0.eval()\n",
        "    with torch.inference_mode():\n",
        "      train_acc+=accuracy_fn(y_true=y,y_pred=torch.argmax(torch.softmax(model_0(X),dim=1),dim=1))/len(train_dataloader)\n",
        "\n",
        "  train_loss/=len(train_dataloader)\n",
        "\n",
        "  model_0.eval()\n",
        "  with torch.inference_mode():\n",
        "    test_loss,test_acc=0,0\n",
        "    for X,y in test_dataloader:\n",
        "      X,y=X.to(device),y.to(device)\n",
        "      test_logits=model_0(X)\n",
        "      test_preds=torch.argmax(torch.softmax(test_logits,dim=1),dim=1)\n",
        "      test_loss += loss_fn(test_logits,y)\n",
        "      test_acc += accuracy_fn(y_true=y,y_pred=test_preds)\n",
        "\n",
        "    test_loss/=len(test_dataloader)\n",
        "    test_acc/=len(test_dataloader)\n",
        "\n",
        "  print(f\"Epoch:{epoch},Train loss:{train_loss}, Test loss:{test_loss}, Train accuracy:{train_acc}, Test accuracy:{test_acc}\")"
      ],
      "metadata": {
        "colab": {
          "base_uri": "https://localhost:8080/",
          "height": 743,
          "referenced_widgets": [
            "543997462a474bfd97f312b83deb18f9",
            "99a79a5f8f8b4b9d99fe83a4b5a7ceab",
            "a771e621d5154202916a8aa22e23db5b",
            "c195ae358c884a7ea764f11026bd754c",
            "38751ae162814cf4a69f6577352fcb59",
            "b032b842da1c48d8b8ba18341406ef78",
            "d3cd342769e249aeb9256f54686ffd99",
            "5e983073215d46ac8554e63d9fc8ccac",
            "9c35f1aafff24f6b86698be803013eb5",
            "644a623869ff430897f9337aa994706f",
            "8ee7383d445a41ff86bb0ce4add17e8e"
          ]
        },
        "id": "vbA8UZs7R9gI",
        "outputId": "9ff24274-2917-46f4-f5c1-7641167fa76a",
        "execution": {
          "iopub.status.busy": "2024-06-15T20:35:05.690337Z",
          "iopub.status.idle": "2024-06-15T20:35:05.690637Z",
          "shell.execute_reply.started": "2024-06-15T20:35:05.690485Z",
          "shell.execute_reply": "2024-06-15T20:35:05.690499Z"
        },
        "trusted": true
      },
      "execution_count": 31,
      "outputs": [
        {
          "output_type": "display_data",
          "data": {
            "text/plain": [
              "  0%|          | 0/40 [00:00<?, ?it/s]"
            ],
            "application/vnd.jupyter.widget-view+json": {
              "version_major": 2,
              "version_minor": 0,
              "model_id": "543997462a474bfd97f312b83deb18f9"
            }
          },
          "metadata": {}
        },
        {
          "output_type": "stream",
          "name": "stdout",
          "text": [
            "Epoch:0,Train loss:1.5037524700164795, Test loss:0.48621031641960144, Train accuracy:80.46000141911195, Test accuracy:86.78000164330005\n",
            "Epoch:1,Train loss:1.3102200031280518, Test loss:0.15206673741340637, Train accuracy:90.5800012941143, Test accuracy:98.55000045895576\n",
            "Epoch:2,Train loss:1.1985360383987427, Test loss:0.11274856328964233, Train accuracy:99.16000027854834, Test accuracy:98.8400003671646\n",
            "Epoch:3,Train loss:1.1904634237289429, Test loss:0.07764433324337006, Train accuracy:99.38166687786166, Test accuracy:99.08000030517579\n",
            "Epoch:4,Train loss:1.1751344203948975, Test loss:0.10758793354034424, Train accuracy:99.46333351929567, Test accuracy:98.98000032901764\n",
            "Epoch:5,Train loss:1.1818174123764038, Test loss:0.08965731412172318, Train accuracy:99.55166682501215, Test accuracy:99.11000028848648\n",
            "Epoch:6,Train loss:1.1793572902679443, Test loss:0.07661239057779312, Train accuracy:99.60000014205352, Test accuracy:98.99000034332275\n",
            "Epoch:7,Train loss:1.1806504726409912, Test loss:0.07553137838840485, Train accuracy:99.66333345075026, Test accuracy:99.14000029563904\n",
            "Epoch:8,Train loss:1.165605902671814, Test loss:0.07475465536117554, Train accuracy:99.71166676779161, Test accuracy:99.14000030755997\n",
            "Epoch:9,Train loss:1.165049433708191, Test loss:0.056878380477428436, Train accuracy:99.7333334286965, Test accuracy:99.17000027298927\n",
            "Epoch:10,Train loss:1.1645702123641968, Test loss:0.05765348672866821, Train accuracy:99.7850000768857, Test accuracy:99.2600002527237\n",
            "Epoch:11,Train loss:1.1685569286346436, Test loss:0.056712228804826736, Train accuracy:99.79000007410414, Test accuracy:99.21000026464462\n",
            "Epoch:12,Train loss:1.1665185689926147, Test loss:0.04793088510632515, Train accuracy:99.79666673838662, Test accuracy:99.34000023007393\n",
            "Epoch:13,Train loss:1.1672298908233643, Test loss:0.04549145698547363, Train accuracy:99.82833339372839, Test accuracy:99.25000026226044\n",
            "Epoch:14,Train loss:1.1675618886947632, Test loss:0.047322336584329605, Train accuracy:99.83333339194024, Test accuracy:99.28000024557113\n",
            "Epoch:15,Train loss:1.1673383712768555, Test loss:0.0547541007399559, Train accuracy:99.8533333857811, Test accuracy:99.14000028967857\n",
            "Epoch:16,Train loss:1.1618508100509644, Test loss:0.04348849132657051, Train accuracy:99.88333337306543, Test accuracy:99.28000023961067\n",
            "Epoch:17,Train loss:1.1580123901367188, Test loss:0.04416715353727341, Train accuracy:99.87000004450047, Test accuracy:99.30000023841858\n",
            "Epoch:18,Train loss:1.1545031070709229, Test loss:0.0435650609433651, Train accuracy:99.880000042911, Test accuracy:99.36000022292137\n",
            "Epoch:19,Train loss:1.1607725620269775, Test loss:0.04362224414944649, Train accuracy:99.87166671255791, Test accuracy:99.21000026464462\n",
            "Epoch:20,Train loss:1.1514941453933716, Test loss:0.047474414110183716, Train accuracy:99.89166670441193, Test accuracy:99.25000025033951\n",
            "Epoch:21,Train loss:1.1523866653442383, Test loss:0.04728328436613083, Train accuracy:99.88666670620007, Test accuracy:99.25000026226044\n",
            "Epoch:22,Train loss:1.1658589839935303, Test loss:0.04257624223828316, Train accuracy:99.8883333732641, Test accuracy:99.31000022888183\n",
            "Epoch:23,Train loss:1.154152274131775, Test loss:0.04276514798402786, Train accuracy:99.89000003933472, Test accuracy:99.29000024199486\n",
            "Epoch:24,Train loss:1.1537634134292603, Test loss:0.04905357211828232, Train accuracy:99.91000003218215, Test accuracy:99.1900002837181\n",
            "Epoch:25,Train loss:1.1602482795715332, Test loss:0.038409214466810226, Train accuracy:99.88666670620006, Test accuracy:99.23000026345252\n",
            "Epoch:26,Train loss:1.151408076286316, Test loss:0.040833812206983566, Train accuracy:99.92500002681773, Test accuracy:99.29000023603439\n",
            "Epoch:27,Train loss:1.1525601148605347, Test loss:0.04054155573248863, Train accuracy:99.93000002502959, Test accuracy:99.26000024080277\n",
            "Epoch:28,Train loss:1.1613517999649048, Test loss:0.03626646101474762, Train accuracy:99.92333336074711, Test accuracy:99.36000021696091\n",
            "Epoch:29,Train loss:1.1578786373138428, Test loss:0.03266051039099693, Train accuracy:99.93333335717084, Test accuracy:99.3900002002716\n",
            "Epoch:30,Train loss:1.156240701675415, Test loss:0.03552881255745888, Train accuracy:99.94166668752392, Test accuracy:99.38000020980834\n",
            "Epoch:31,Train loss:1.1591495275497437, Test loss:0.03353941813111305, Train accuracy:99.9400000214533, Test accuracy:99.36000021696091\n",
            "Epoch:32,Train loss:1.145859956741333, Test loss:0.036969590932130814, Train accuracy:99.93500002324144, Test accuracy:99.30000024437905\n",
            "Epoch:33,Train loss:1.1553515195846558, Test loss:0.036073919385671616, Train accuracy:99.9316666911002, Test accuracy:99.340000218153\n",
            "Epoch:34,Train loss:1.1578712463378906, Test loss:0.03936709091067314, Train accuracy:99.94000002145332, Test accuracy:99.1700002849102\n",
            "Epoch:35,Train loss:1.1627382040023804, Test loss:0.03565472736954689, Train accuracy:99.94500001966516, Test accuracy:99.33000022768974\n",
            "Epoch:36,Train loss:1.157190203666687, Test loss:0.03337685391306877, Train accuracy:99.94500001966516, Test accuracy:99.36000021696091\n",
            "Epoch:37,Train loss:1.1600782871246338, Test loss:0.034354645758867264, Train accuracy:99.93833335538268, Test accuracy:99.29000023603439\n",
            "Epoch:38,Train loss:1.1489976644515991, Test loss:0.03628257289528847, Train accuracy:99.93833335538268, Test accuracy:99.18000028133392\n",
            "Epoch:39,Train loss:1.155604600906372, Test loss:0.03683238476514816, Train accuracy:99.96666667858322, Test accuracy:99.26000025868416\n"
          ]
        }
      ]
    },
    {
      "cell_type": "code",
      "source": [
        "torch.save(obj=model_0.state_dict(),f='model_0')"
      ],
      "metadata": {
        "id": "i0uMCGguTJBO",
        "execution": {
          "iopub.status.busy": "2024-06-15T20:35:05.692439Z",
          "iopub.status.idle": "2024-06-15T20:35:05.692751Z",
          "shell.execute_reply.started": "2024-06-15T20:35:05.692594Z",
          "shell.execute_reply": "2024-06-15T20:35:05.692607Z"
        },
        "trusted": true
      },
      "execution_count": 32,
      "outputs": []
    },
    {
      "cell_type": "markdown",
      "source": [
        "# $\\textbf{Evaluating the model}$"
      ],
      "metadata": {
        "id": "CVDZtwKHAKNx"
      }
    },
    {
      "cell_type": "code",
      "source": [
        "def eval_model(model,dataloader):\n",
        "  model.eval()\n",
        "  with torch.inference_mode():\n",
        "    loss,acc=0,0\n",
        "    for (X,y) in tqdm(dataloader):\n",
        "      X,y=X.to(device),y.to(device)\n",
        "      logits=model(X)\n",
        "      preds=torch.argmax(torch.softmax(logits,dim=1),dim=1)\n",
        "      loss+=loss_fn(logits,y)\n",
        "      acc+=accuracy_fn(y,preds)\n",
        "    loss/=len(dataloader)\n",
        "    acc/=len(dataloader)\n",
        "\n",
        "  print(f\"Accuracy:{acc},loss:{loss}\")"
      ],
      "metadata": {
        "id": "bn1IFniiYalt",
        "execution": {
          "iopub.status.busy": "2024-06-15T20:35:05.693834Z",
          "iopub.status.idle": "2024-06-15T20:35:05.694199Z",
          "shell.execute_reply.started": "2024-06-15T20:35:05.694001Z",
          "shell.execute_reply": "2024-06-15T20:35:05.694015Z"
        },
        "trusted": true
      },
      "execution_count": 33,
      "outputs": []
    },
    {
      "cell_type": "code",
      "source": [
        "model_0=MNISTmodel().to(device)"
      ],
      "metadata": {
        "id": "NdtsIjZVWrYF",
        "execution": {
          "iopub.status.busy": "2024-06-15T20:35:05.695619Z",
          "iopub.status.idle": "2024-06-15T20:35:05.695923Z",
          "shell.execute_reply.started": "2024-06-15T20:35:05.695770Z",
          "shell.execute_reply": "2024-06-15T20:35:05.695783Z"
        },
        "trusted": true
      },
      "execution_count": 34,
      "outputs": []
    },
    {
      "cell_type": "code",
      "source": [
        "model_0.load_state_dict(torch.load(f='model_0'))"
      ],
      "metadata": {
        "colab": {
          "base_uri": "https://localhost:8080/"
        },
        "id": "euJc7WSUXJdI",
        "outputId": "56199548-ae19-4fa4-8a6e-feb6bf522873",
        "execution": {
          "iopub.status.busy": "2024-06-15T20:35:05.697054Z",
          "iopub.status.idle": "2024-06-15T20:35:05.697410Z",
          "shell.execute_reply.started": "2024-06-15T20:35:05.697245Z",
          "shell.execute_reply": "2024-06-15T20:35:05.697259Z"
        },
        "trusted": true
      },
      "execution_count": 35,
      "outputs": [
        {
          "output_type": "execute_result",
          "data": {
            "text/plain": [
              "<All keys matched successfully>"
            ]
          },
          "metadata": {},
          "execution_count": 35
        }
      ]
    },
    {
      "cell_type": "code",
      "source": [
        "eval_model(model_0,test_dataloader)"
      ],
      "metadata": {
        "colab": {
          "base_uri": "https://localhost:8080/",
          "height": 66,
          "referenced_widgets": [
            "bf5c01d86f594c3b9ecb4ae6cbc0b64a",
            "2713c2c8095e425d94f26fae69186c09",
            "dd938ea150b64e838d8daae78f8883a6",
            "a5835e267e99404ab8cb9df710addee7",
            "761bfb835c014741bd22257ea28b67bb",
            "0a68c6c371eb4b00882d745cd3441f40",
            "104cc3ca918d4cb5a4a8603ccb2ebc29",
            "2cbbc701b47f412d934347964d04e33b",
            "4cd18769342a44018e89c64015ad61c6",
            "ad8ad79593f54487a272b52d7b14fdb2",
            "9804424470bf46949bef3098b710bd60"
          ]
        },
        "id": "H3C4Y8tHYXtI",
        "outputId": "fa9ccc88-341a-48e9-81cd-715c42f5847b",
        "execution": {
          "iopub.status.busy": "2024-06-15T20:35:05.698500Z",
          "iopub.status.idle": "2024-06-15T20:35:05.698823Z",
          "shell.execute_reply.started": "2024-06-15T20:35:05.698664Z",
          "shell.execute_reply": "2024-06-15T20:35:05.698677Z"
        },
        "trusted": true
      },
      "execution_count": 36,
      "outputs": [
        {
          "output_type": "display_data",
          "data": {
            "text/plain": [
              "  0%|          | 0/1000 [00:00<?, ?it/s]"
            ],
            "application/vnd.jupyter.widget-view+json": {
              "version_major": 2,
              "version_minor": 0,
              "model_id": "bf5c01d86f594c3b9ecb4ae6cbc0b64a"
            }
          },
          "metadata": {}
        },
        {
          "output_type": "stream",
          "name": "stdout",
          "text": [
            "Accuracy:99.26000024080277,loss:0.03683239966630936\n"
          ]
        }
      ]
    },
    {
      "cell_type": "markdown",
      "source": [
        "# $\\textbf{Testing on Random Image}$"
      ],
      "metadata": {
        "id": "dyZuEyh4AWWN"
      }
    },
    {
      "cell_type": "code",
      "source": [
        "image,label=test_data[np.random.randint(0,10000)]\n",
        "pred_label=torch.argmax(torch.softmax(model_0(image.unsqueeze(dim=0).to(device)),dim=1),dim=1)\n",
        "plt.imshow(image.squeeze(),cmap='gray')\n",
        "plt.axis(False)\n",
        "if label==pred_label:\n",
        "  plt.title(f\"True label:{label} \\nPredicted label:{pred_label.item()}\",c='g')\n",
        "else:\n",
        "  plt.title(f\"True label:{label} \\nPredicted label:{pred_label.item()}\",c='r')"
      ],
      "metadata": {
        "colab": {
          "base_uri": "https://localhost:8080/",
          "height": 449
        },
        "id": "s6LIMehjZ-kJ",
        "outputId": "5a031dfa-5ae5-4216-c474-180bc8d2cf8b",
        "execution": {
          "iopub.status.busy": "2024-06-15T20:35:05.699925Z",
          "iopub.status.idle": "2024-06-15T20:35:05.700255Z",
          "shell.execute_reply.started": "2024-06-15T20:35:05.700071Z",
          "shell.execute_reply": "2024-06-15T20:35:05.700084Z"
        },
        "trusted": true
      },
      "execution_count": 37,
      "outputs": [
        {
          "output_type": "display_data",
          "data": {
            "text/plain": [
              "<Figure size 640x480 with 1 Axes>"
            ],
            "image/png": "[encoded data removed]"
          },
          "metadata": {}
        }
      ]
    },
    {
      "cell_type": "code",
      "source": [],
      "metadata": {
        "id": "J6YsCPHogRzf"
      },
      "execution_count": 37,
      "outputs": []
    }
  ]
}